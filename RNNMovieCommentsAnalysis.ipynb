{
  "nbformat": 4,
  "nbformat_minor": 0,
  "metadata": {
    "colab": {
      "provenance": [],
      "gpuType": "T4"
    },
    "kernelspec": {
      "name": "python3",
      "display_name": "Python 3"
    },
    "language_info": {
      "name": "python"
    },
    "accelerator": "GPU"
  },
  "cells": [
    {
      "cell_type": "code",
      "execution_count": 1,
      "metadata": {
        "id": "lc62nXeTinvV"
      },
      "outputs": [],
      "source": [
        "from keras.datasets import imdb\n",
        "from keras.preprocessing import sequence\n",
        "import tensorflow as tf\n",
        "import os\n",
        "import numpy as np"
      ]
    },
    {
      "cell_type": "code",
      "source": [
        "VOCAB_SIZE = 88584\n",
        "\n",
        "MAXLEN = 250\n",
        "BATCH_SIZE = 64\n",
        "\n",
        "(train_data, train_labels), (test_data, test_labels) = imdb.load_data(num_words=VOCAB_SIZE)"
      ],
      "metadata": {
        "colab": {
          "base_uri": "https://localhost:8080/"
        },
        "id": "CD8hcx7x9r3W",
        "outputId": "51046497-379c-4b95-c2f6-14bcaaf6d512"
      },
      "execution_count": 2,
      "outputs": [
        {
          "output_type": "stream",
          "name": "stdout",
          "text": [
            "Downloading data from https://storage.googleapis.com/tensorflow/tf-keras-datasets/imdb.npz\n",
            "17464789/17464789 [==============================] - 0s 0us/step\n"
          ]
        }
      ]
    },
    {
      "cell_type": "code",
      "source": [
        "train_data[0]"
      ],
      "metadata": {
        "id": "Lf1JVwtn-C67"
      },
      "execution_count": null,
      "outputs": []
    },
    {
      "cell_type": "code",
      "source": [
        "train_data = sequence.pad_sequences(train_data, MAXLEN)\n",
        "test_data = sequence.pad_sequences(test_data, MAXLEN)"
      ],
      "metadata": {
        "id": "2QKT3Qzu-IMD"
      },
      "execution_count": 4,
      "outputs": []
    },
    {
      "cell_type": "code",
      "source": [
        "train_data[0]"
      ],
      "metadata": {
        "colab": {
          "base_uri": "https://localhost:8080/"
        },
        "id": "qg-7YkSC_Z4n",
        "outputId": "3ec9e282-841b-47fa-8a14-4000c4f212ee"
      },
      "execution_count": 5,
      "outputs": [
        {
          "output_type": "execute_result",
          "data": {
            "text/plain": [
              "array([    0,     0,     0,     0,     0,     0,     0,     0,     0,\n",
              "           0,     0,     0,     0,     0,     0,     0,     0,     0,\n",
              "           0,     0,     0,     0,     0,     0,     0,     0,     0,\n",
              "           0,     0,     0,     0,     0,     1,    14,    22,    16,\n",
              "          43,   530,   973,  1622,  1385,    65,   458,  4468,    66,\n",
              "        3941,     4,   173,    36,   256,     5,    25,   100,    43,\n",
              "         838,   112,    50,   670, 22665,     9,    35,   480,   284,\n",
              "           5,   150,     4,   172,   112,   167, 21631,   336,   385,\n",
              "          39,     4,   172,  4536,  1111,    17,   546,    38,    13,\n",
              "         447,     4,   192,    50,    16,     6,   147,  2025,    19,\n",
              "          14,    22,     4,  1920,  4613,   469,     4,    22,    71,\n",
              "          87,    12,    16,    43,   530,    38,    76,    15,    13,\n",
              "        1247,     4,    22,    17,   515,    17,    12,    16,   626,\n",
              "          18, 19193,     5,    62,   386,    12,     8,   316,     8,\n",
              "         106,     5,     4,  2223,  5244,    16,   480,    66,  3785,\n",
              "          33,     4,   130,    12,    16,    38,   619,     5,    25,\n",
              "         124,    51,    36,   135,    48,    25,  1415,    33,     6,\n",
              "          22,    12,   215,    28,    77,    52,     5,    14,   407,\n",
              "          16,    82, 10311,     8,     4,   107,   117,  5952,    15,\n",
              "         256,     4, 31050,     7,  3766,     5,   723,    36,    71,\n",
              "          43,   530,   476,    26,   400,   317,    46,     7,     4,\n",
              "       12118,  1029,    13,   104,    88,     4,   381,    15,   297,\n",
              "          98,    32,  2071,    56,    26,   141,     6,   194,  7486,\n",
              "          18,     4,   226,    22,    21,   134,   476,    26,   480,\n",
              "           5,   144,    30,  5535,    18,    51,    36,    28,   224,\n",
              "          92,    25,   104,     4,   226,    65,    16,    38,  1334,\n",
              "          88,    12,    16,   283,     5,    16,  4472,   113,   103,\n",
              "          32,    15,    16,  5345,    19,   178,    32], dtype=int32)"
            ]
          },
          "metadata": {},
          "execution_count": 5
        }
      ]
    },
    {
      "cell_type": "code",
      "source": [
        "model = tf.keras.Sequential([\n",
        "    tf.keras.layers.Embedding(VOCAB_SIZE, 32),\n",
        "    tf.keras.layers.LSTM(32),\n",
        "    tf.keras.layers.Dense(1, activation=\"sigmoid\")\n",
        "])"
      ],
      "metadata": {
        "id": "c0HtVwFeCT2i"
      },
      "execution_count": 6,
      "outputs": []
    },
    {
      "cell_type": "code",
      "source": [
        "model.summary()"
      ],
      "metadata": {
        "colab": {
          "base_uri": "https://localhost:8080/"
        },
        "id": "jFGdOYVkDwG5",
        "outputId": "1529679e-8f1c-4d6c-8bee-2e89c158e7b5"
      },
      "execution_count": 7,
      "outputs": [
        {
          "output_type": "stream",
          "name": "stdout",
          "text": [
            "Model: \"sequential\"\n",
            "_________________________________________________________________\n",
            " Layer (type)                Output Shape              Param #   \n",
            "=================================================================\n",
            " embedding (Embedding)       (None, None, 32)          2834688   \n",
            "                                                                 \n",
            " lstm (LSTM)                 (None, 32)                8320      \n",
            "                                                                 \n",
            " dense (Dense)               (None, 1)                 33        \n",
            "                                                                 \n",
            "=================================================================\n",
            "Total params: 2843041 (10.85 MB)\n",
            "Trainable params: 2843041 (10.85 MB)\n",
            "Non-trainable params: 0 (0.00 Byte)\n",
            "_________________________________________________________________\n"
          ]
        }
      ]
    },
    {
      "cell_type": "code",
      "source": [
        "model.compile(loss=\"binary_crossentropy\", optimizer=\"rmsprop\", metrics=[\"acc\"])\n",
        "\n",
        "history = model.fit(train_data, train_labels, epochs=10, validation_split=0.2)"
      ],
      "metadata": {
        "colab": {
          "base_uri": "https://localhost:8080/"
        },
        "id": "ffMzYoWtEP5L",
        "outputId": "55068cee-b99e-42b2-fca0-a5ba2bb49905"
      },
      "execution_count": 8,
      "outputs": [
        {
          "output_type": "stream",
          "name": "stdout",
          "text": [
            "Epoch 1/10\n",
            "625/625 [==============================] - 59s 84ms/step - loss: 0.4540 - acc: 0.7807 - val_loss: 0.3073 - val_acc: 0.8764\n",
            "Epoch 2/10\n",
            "625/625 [==============================] - 30s 47ms/step - loss: 0.2619 - acc: 0.8981 - val_loss: 0.3012 - val_acc: 0.8736\n",
            "Epoch 3/10\n",
            "625/625 [==============================] - 17s 27ms/step - loss: 0.2015 - acc: 0.9275 - val_loss: 0.3643 - val_acc: 0.8592\n",
            "Epoch 4/10\n",
            "625/625 [==============================] - 10s 17ms/step - loss: 0.1625 - acc: 0.9404 - val_loss: 0.2949 - val_acc: 0.8886\n",
            "Epoch 5/10\n",
            "625/625 [==============================] - 10s 16ms/step - loss: 0.1358 - acc: 0.9533 - val_loss: 0.3211 - val_acc: 0.8870\n",
            "Epoch 6/10\n",
            "625/625 [==============================] - 13s 21ms/step - loss: 0.1146 - acc: 0.9602 - val_loss: 0.3250 - val_acc: 0.8818\n",
            "Epoch 7/10\n",
            "625/625 [==============================] - 9s 15ms/step - loss: 0.0984 - acc: 0.9697 - val_loss: 0.3910 - val_acc: 0.8776\n",
            "Epoch 8/10\n",
            "625/625 [==============================] - 9s 14ms/step - loss: 0.0792 - acc: 0.9751 - val_loss: 0.3823 - val_acc: 0.8798\n",
            "Epoch 9/10\n",
            "625/625 [==============================] - 9s 14ms/step - loss: 0.0731 - acc: 0.9783 - val_loss: 0.4368 - val_acc: 0.8756\n",
            "Epoch 10/10\n",
            "625/625 [==============================] - 8s 13ms/step - loss: 0.0601 - acc: 0.9813 - val_loss: 0.4485 - val_acc: 0.8762\n"
          ]
        }
      ]
    },
    {
      "cell_type": "code",
      "source": [
        "results = model.evaluate(test_data, test_labels)\n",
        "print(results)"
      ],
      "metadata": {
        "colab": {
          "base_uri": "https://localhost:8080/"
        },
        "id": "3ziaWjDCGc-Y",
        "outputId": "aa13a5cf-b7a5-4522-a297-333b6e0404fa"
      },
      "execution_count": 9,
      "outputs": [
        {
          "output_type": "stream",
          "name": "stdout",
          "text": [
            "782/782 [==============================] - 4s 5ms/step - loss: 0.5072 - acc: 0.8610\n",
            "[0.507209062576294, 0.8610000014305115]\n"
          ]
        }
      ]
    },
    {
      "cell_type": "code",
      "source": [
        "word_index = imdb.get_word_index()\n",
        "\n",
        "def encode_text(text):\n",
        "  tokens = tf.keras.preprocessing.text.text_to_word_sequence(text)\n",
        "  tokens = [word_index[word] if word in word_index else 0 for word in tokens]\n",
        "  return sequence.pad_sequences([tokens], MAXLEN)[0]"
      ],
      "metadata": {
        "id": "lmatkxqkHArH"
      },
      "execution_count": 19,
      "outputs": []
    },
    {
      "cell_type": "code",
      "source": [
        "text = \"that movie was just amazing, so amazing\"\n",
        "encoded = encode_text(text)\n",
        "print(encoded)"
      ],
      "metadata": {
        "colab": {
          "base_uri": "https://localhost:8080/"
        },
        "id": "wikzBGW0mlGX",
        "outputId": "0d40c250-ee3f-49e4-c4e4-b06eaa78f71e"
      },
      "execution_count": 20,
      "outputs": [
        {
          "output_type": "stream",
          "name": "stdout",
          "text": [
            "[  0   0   0   0   0   0   0   0   0   0   0   0   0   0   0   0   0   0\n",
            "   0   0   0   0   0   0   0   0   0   0   0   0   0   0   0   0   0   0\n",
            "   0   0   0   0   0   0   0   0   0   0   0   0   0   0   0   0   0   0\n",
            "   0   0   0   0   0   0   0   0   0   0   0   0   0   0   0   0   0   0\n",
            "   0   0   0   0   0   0   0   0   0   0   0   0   0   0   0   0   0   0\n",
            "   0   0   0   0   0   0   0   0   0   0   0   0   0   0   0   0   0   0\n",
            "   0   0   0   0   0   0   0   0   0   0   0   0   0   0   0   0   0   0\n",
            "   0   0   0   0   0   0   0   0   0   0   0   0   0   0   0   0   0   0\n",
            "   0   0   0   0   0   0   0   0   0   0   0   0   0   0   0   0   0   0\n",
            "   0   0   0   0   0   0   0   0   0   0   0   0   0   0   0   0   0   0\n",
            "   0   0   0   0   0   0   0   0   0   0   0   0   0   0   0   0   0   0\n",
            "   0   0   0   0   0   0   0   0   0   0   0   0   0   0   0   0   0   0\n",
            "   0   0   0   0   0   0   0   0   0   0   0   0   0   0   0   0   0   0\n",
            "   0   0   0   0   0   0   0   0   0  12  17  13  40 477  35 477]\n"
          ]
        }
      ]
    },
    {
      "cell_type": "code",
      "source": [
        "reverse_word_index = {value: key for (key, value) in word_index.items()}\n",
        "\n",
        "def decode_integers(integers):\n",
        "  PAD = 0\n",
        "  text = \"\"\n",
        "  for num in integers:\n",
        "    if num != PAD:\n",
        "      text += reverse_word_index[num] + \" \"\n",
        "\n",
        "  return text[:-1]\n",
        "\n",
        "print(decode_integers(encoded))"
      ],
      "metadata": {
        "colab": {
          "base_uri": "https://localhost:8080/"
        },
        "id": "BHHpfyjqnuuK",
        "outputId": "ddfa35b6-a4c7-4ba7-e66e-1488de62f3f0"
      },
      "execution_count": 22,
      "outputs": [
        {
          "output_type": "stream",
          "name": "stdout",
          "text": [
            "that movie was just amazing so amazing\n"
          ]
        }
      ]
    },
    {
      "cell_type": "code",
      "source": [
        "def predict(text):\n",
        "  encoded_text = encode_text(text)\n",
        "  pred = np.zeros((1, 250))\n",
        "  pred[0] = encoded_text\n",
        "  result = model.predict(pred)\n",
        "  if result[0][0] >= .5:\n",
        "    print(\"Positive\")\n",
        "  else:\n",
        "    print(\"Negative\")\n",
        "\n",
        "positive_review = \"That movie was so awesome! I really loved it and would watch it again because it was great\"\n",
        "predict(positive_review)\n",
        "\n",
        "negative_review = \"That movie sucked! I hated it and wouldn't watch it again. Was one of the worst things I've ever watched\"\n",
        "predict(negative_review)"
      ],
      "metadata": {
        "colab": {
          "base_uri": "https://localhost:8080/"
        },
        "id": "w63e90cXozsH",
        "outputId": "7bf50f24-5e8b-417a-d05e-c71c1cff5d49"
      },
      "execution_count": 32,
      "outputs": [
        {
          "output_type": "stream",
          "name": "stdout",
          "text": [
            "1/1 [==============================] - 0s 22ms/step\n",
            "Positive\n",
            "1/1 [==============================] - 0s 20ms/step\n",
            "Negative\n"
          ]
        }
      ]
    },
    {
      "cell_type": "markdown",
      "source": [],
      "metadata": {
        "id": "sHX7NoE_lS42"
      }
    }
  ]
}